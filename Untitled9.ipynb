{
 "cells": [
  {
   "cell_type": "code",
   "execution_count": 24,
   "id": "3387aaf6",
   "metadata": {},
   "outputs": [],
   "source": [
    "import math\n",
    "import numpy as np\n",
    "import matplotlib.pyplot as plt"
   ]
  },
  {
   "cell_type": "code",
   "execution_count": 25,
   "id": "27bf8af5",
   "metadata": {},
   "outputs": [],
   "source": [
    "x=[25,28,35,32,31,36,29,38,34,32]\n",
    "y=[43,46,49,41,36,32,31,30,33,39]\n"
   ]
  },
  {
   "cell_type": "code",
   "execution_count": 26,
   "id": "cacf50eb",
   "metadata": {},
   "outputs": [],
   "source": [
    "sx=0\n",
    "sy=0\n",
    "sxy=0\n",
    "sx2=0\n",
    "sy2=0\n"
   ]
  },
  {
   "cell_type": "code",
   "execution_count": 27,
   "id": "c4ad5d94",
   "metadata": {},
   "outputs": [],
   "source": [
    "for i in range(0,10):\n",
    "    sx=sx+x[i]\n",
    "    sy=sy+y[i]\n",
    "    sxy=sxy+x[i]*y[i]\n",
    "    sx2=sx2+x[i]**2\n",
    "    sy2=sy2+y[i]**2\n",
    "  "
   ]
  },
  {
   "cell_type": "code",
   "execution_count": 28,
   "id": "7e470230",
   "metadata": {},
   "outputs": [
    {
     "name": "stdout",
     "output_type": "stream",
     "text": [
      "The correlation coeficient is -0.394\n"
     ]
    }
   ],
   "source": [
    "n=10\n",
    "r=(n*sxy-sx*sy)/(math.sqrt(n*sx2-sx**2)*math.sqrt(n*sy2-sy**2))\n",
    "print(\"The correlation coeficient is %0.3f\"%r)"
   ]
  },
  {
   "cell_type": "code",
   "execution_count": 29,
   "id": "798f8d70",
   "metadata": {},
   "outputs": [
    {
     "name": "stdout",
     "output_type": "stream",
     "text": [
      "the reg line Y on x : Y=38.000 -0.664(X-32.000)\n"
     ]
    }
   ],
   "source": [
    "byx=(n*sxy-sx*sy)/(n*sx2-sx**2)\n",
    "xmean=sx/n\n",
    "ymean=sy/n\n",
    "print(\"the reg line Y on x : Y=%0.3f %0.3f(X-%0.3f)\"%(ymean,byx,xmean))"
   ]
  },
  {
   "cell_type": "code",
   "execution_count": 30,
   "id": "f18a7020",
   "metadata": {},
   "outputs": [
    {
     "data": {
      "text/plain": [
       "[<matplotlib.lines.Line2D at 0x1cf4a7690d0>]"
      ]
     },
     "execution_count": 30,
     "metadata": {},
     "output_type": "execute_result"
    },
    {
     "data": {
      "image/png": "[encoded data removed]",
      "text/plain": [
       "<Figure size 432x288 with 1 Axes>"
      ]
     },
     "metadata": {
      "needs_background": "light"
     },
     "output_type": "display_data"
    }
   ],
   "source": [
    "plt.plot(x,y,'o')"
   ]
  },
  {
   "cell_type": "code",
   "execution_count": 31,
   "id": "2a4c8a7d",
   "metadata": {},
   "outputs": [
    {
     "data": {
      "text/plain": [
       "[<matplotlib.lines.Line2D at 0x1cf4a7ce340>]"
      ]
     },
     "execution_count": 31,
     "metadata": {},
     "output_type": "execute_result"
    },
    {
     "data": {
      "image/png": "[encoded data removed]",
      "text/plain": [
       "<Figure size 432x288 with 1 Axes>"
      ]
     },
     "metadata": {
      "needs_background": "light"
     },
     "output_type": "display_data"
    }
   ],
   "source": [
    "plt.scatter(x,y)\n",
    "def Reg(x):\n",
    "    return ymean + byx*(x-xmean)\n",
    "x=np.linspace(20,40,52)\n",
    "y=Reg(x)\n",
    "plt.plot(x,y,'r')"
   ]
  },
  {
   "cell_type": "code",
   "execution_count": null,
   "id": "fefa973b",
   "metadata": {},
   "outputs": [],
   "source": []
  }
 ],
 "metadata": {
  "kernelspec": {
   "display_name": "Python 3",
   "language": "python",
   "name": "python3"
  },
  "language_info": {
   "codemirror_mode": {
    "name": "ipython",
    "version": 3
   },
   "file_extension": ".py",
   "mimetype": "text/x-python",
   "name": "python",
   "nbconvert_exporter": "python",
   "pygments_lexer": "ipython3",
   "version": "3.8.8"
  }
 },
 "nbformat": 4,
 "nbformat_minor": 5
}
